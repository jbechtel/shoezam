{
 "cells": [
  {
   "cell_type": "code",
   "execution_count": 2,
   "metadata": {},
   "outputs": [],
   "source": [
    "import pandas as pd\n",
    "import numpy as np\n",
    "import seaborn as sn\n",
    "from scipy.spatial.distance import euclidean,cosine,pdist,squareform\n",
    "from IPython.display import Image\n",
    "from IPython.core.display import Image, display\n",
    "import matplotlib.pyplot as plt\n",
    "import pickle"
   ]
  },
  {
   "cell_type": "code",
   "execution_count": 6,
   "metadata": {},
   "outputs": [],
   "source": [
    "oxfords_db = 'oxfords_frnt_full_data_fc2.csv'\n",
    "boats_db = 'boats_frnt_full_data_fc2.csv'\n",
    "boots_db = 'boots_frnt_full_data_fc2.csv'"
   ]
  },
  {
   "cell_type": "code",
   "execution_count": 7,
   "metadata": {},
   "outputs": [],
   "source": [
    "oxfords_nof = 'oxfords_frnt_data_frame_no_features.csv'\n",
    "boats_nof = 'boats_frnt_data_frame_no_features.csv'\n",
    "boots_nof = 'boots_frnt_data_frame_no_features.csv'"
   ]
  },
  {
   "cell_type": "code",
   "execution_count": 8,
   "metadata": {},
   "outputs": [],
   "source": [
    "oxfords_ndf = pd.read_csv(oxfords_nof,index_col=0)\n",
    "boots_ndf = pd.read_csv(boots_nof,index_col=0)\n",
    "boats_ndf = pd.read_csv(boats_nof,index_col=0)"
   ]
  },
  {
   "cell_type": "code",
   "execution_count": 9,
   "metadata": {},
   "outputs": [],
   "source": [
    "oxfords_df = pd.read_csv(oxfords_db,index_col=0)\n",
    "boots_df = pd.read_csv(boots_db,index_col=0)\n",
    "boats_df = pd.read_csv(boats_db,index_col=0)"
   ]
  },
  {
   "cell_type": "code",
   "execution_count": 10,
   "metadata": {},
   "outputs": [
    {
     "data": {
      "text/plain": [
       "(9005, 14)"
      ]
     },
     "execution_count": 10,
     "metadata": {},
     "output_type": "execute_result"
    }
   ],
   "source": [
    "oxfords_ndf.shape"
   ]
  },
  {
   "cell_type": "code",
   "execution_count": 11,
   "metadata": {},
   "outputs": [
    {
     "name": "stdout",
     "output_type": "stream",
     "text": [
      "oxfords no feature vecs .shape : (9005, 14)\n",
      "oxfords full data shape: (9005, 4110)\n",
      "boots no feature vecs .shape : (12770, 14)\n",
      "boots full data shape: (12770, 4110)\n",
      "boats no feature vecs .shape : (1100, 14)\n",
      "boats full data shape: (1100, 4110)\n"
     ]
    }
   ],
   "source": [
    "print(\"oxfords no feature vecs .shape : {}\\noxfords full data shape: {}\".format(oxfords_ndf.shape,oxfords_df.shape))\n",
    "print(\"boots no feature vecs .shape : {}\\nboots full data shape: {}\".format(boots_ndf.shape,boots_df.shape))\n",
    "print(\"boats no feature vecs .shape : {}\\nboats full data shape: {}\".format(boats_ndf.shape,boats_df.shape))"
   ]
  },
  {
   "cell_type": "code",
   "execution_count": 12,
   "metadata": {},
   "outputs": [],
   "source": [
    "result = pd.concat([boats_df, boots_df,oxfords_df], ignore_index=True, sort=False)"
   ]
  },
  {
   "cell_type": "code",
   "execution_count": 13,
   "metadata": {},
   "outputs": [
    {
     "data": {
      "text/plain": [
       "(22875, 4110)"
      ]
     },
     "execution_count": 13,
     "metadata": {},
     "output_type": "execute_result"
    }
   ],
   "source": [
    "result.shape"
   ]
  },
  {
   "cell_type": "code",
   "execution_count": 15,
   "metadata": {},
   "outputs": [],
   "source": [
    "no_dupes = result.drop_duplicates(subset=list(result.iloc[:,0:14]))"
   ]
  },
  {
   "cell_type": "code",
   "execution_count": 16,
   "metadata": {},
   "outputs": [
    {
     "data": {
      "text/plain": [
       "(22875, 4110)"
      ]
     },
     "execution_count": 16,
     "metadata": {},
     "output_type": "execute_result"
    }
   ],
   "source": [
    "no_dupes.shape"
   ]
  },
  {
   "cell_type": "code",
   "execution_count": 17,
   "metadata": {},
   "outputs": [
    {
     "data": {
      "text/plain": [
       "['brand',\n",
       " 'color',\n",
       " 'image_path',\n",
       " 'key',\n",
       " 'msrp',\n",
       " 'name',\n",
       " 'sale',\n",
       " 'subcategory',\n",
       " 'url',\n",
       " 'view',\n",
       " 'like_product_key_0',\n",
       " 'like_product_key_1',\n",
       " 'like_product_key_2',\n",
       " 'like_product_key_3']"
      ]
     },
     "execution_count": 17,
     "metadata": {},
     "output_type": "execute_result"
    }
   ],
   "source": [
    "list(no_dupes.iloc[:,0:14])"
   ]
  },
  {
   "cell_type": "code",
   "execution_count": 18,
   "metadata": {},
   "outputs": [],
   "source": [
    "no_dupes.to_csv('frnt_full_data_oxfords_boats_boots.csv')"
   ]
  },
  {
   "cell_type": "code",
   "execution_count": 19,
   "metadata": {},
   "outputs": [],
   "source": [
    "no_dupes.iloc[:,0:14].to_csv('frnt_no_features_data_oxfords_boats_boots.csv')\n",
    "no_dupes.iloc[:,14:].to_csv('frnt_features_fc2_data_oxfords_boats_boots.csv')"
   ]
  },
  {
   "cell_type": "code",
   "execution_count": 20,
   "metadata": {},
   "outputs": [
    {
     "data": {
      "text/plain": [
       "array(['pair', 'top', 'left', 'right', 'front'], dtype=object)"
      ]
     },
     "execution_count": 20,
     "metadata": {},
     "output_type": "execute_result"
    }
   ],
   "source": [
    "no_dupes['view'].unique()"
   ]
  },
  {
   "cell_type": "code",
   "execution_count": 30,
   "metadata": {},
   "outputs": [
    {
     "data": {
      "text/plain": [
       "array(['Boat Shoes', 'Sneakers & Athletic Shoes', 'Loafers', 'Boots',\n",
       "       'Oxfords'], dtype=object)"
      ]
     },
     "execution_count": 30,
     "metadata": {},
     "output_type": "execute_result"
    }
   ],
   "source": [
    "no_dupes['subcategory'].unique()"
   ]
  },
  {
   "cell_type": "code",
   "execution_count": 35,
   "metadata": {},
   "outputs": [],
   "source": [
    "idx = no_dupes.index[no_dupes['subcategory']=='Boots'].tolist()"
   ]
  },
  {
   "cell_type": "code",
   "execution_count": 36,
   "metadata": {},
   "outputs": [],
   "source": [
    "no_dupes_boots = no_dupes.iloc[idx,:]"
   ]
  },
  {
   "cell_type": "code",
   "execution_count": 38,
   "metadata": {},
   "outputs": [
    {
     "data": {
      "text/plain": [
       "(12092, 4110)"
      ]
     },
     "execution_count": 38,
     "metadata": {},
     "output_type": "execute_result"
    }
   ],
   "source": [
    "no_dupes_boots.shape"
   ]
  },
  {
   "cell_type": "code",
   "execution_count": 39,
   "metadata": {},
   "outputs": [],
   "source": [
    "odf_path = '/Users/bechtel/Work/Insight/shoezam/feature_extraction/no_features_data_oxfords_boats_boots.csv'\n",
    "oxf_path = '/Users/bechtel/Work/Insight/shoezam/feature_extraction/features_fc2_data_oxfords_boats_boots.csv'\n",
    "oxf = pd.read_csv(oxf_path,index_col=0).values\n",
    "odf = pd.read_csv(odf_path,index_col=0)\n"
   ]
  },
  {
   "cell_type": "code",
   "execution_count": 46,
   "metadata": {},
   "outputs": [],
   "source": [
    "idx = odf.index[odf['subcategory']=='Boat Shoes'].tolist()"
   ]
  },
  {
   "cell_type": "code",
   "execution_count": 47,
   "metadata": {},
   "outputs": [],
   "source": [
    "toxf = oxf[idx,:]\n",
    "todf = odf.iloc[idx,:]"
   ]
  },
  {
   "cell_type": "code",
   "execution_count": 48,
   "metadata": {},
   "outputs": [
    {
     "data": {
      "text/plain": [
       "(884, 4096)"
      ]
     },
     "execution_count": 48,
     "metadata": {},
     "output_type": "execute_result"
    }
   ],
   "source": [
    "toxf.shape"
   ]
  },
  {
   "cell_type": "code",
   "execution_count": null,
   "metadata": {},
   "outputs": [],
   "source": []
  }
 ],
 "metadata": {
  "kernelspec": {
   "display_name": "Python 3",
   "language": "python",
   "name": "python3"
  },
  "language_info": {
   "codemirror_mode": {
    "name": "ipython",
    "version": 3
   },
   "file_extension": ".py",
   "mimetype": "text/x-python",
   "name": "python",
   "nbconvert_exporter": "python",
   "pygments_lexer": "ipython3",
   "version": "3.5.5"
  }
 },
 "nbformat": 4,
 "nbformat_minor": 2
}
